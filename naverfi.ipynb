{
 "cells": [
  {
   "cell_type": "code",
   "execution_count": 1,
   "metadata": {},
   "outputs": [],
   "source": [
    "import dash\n",
    "from dash.dependencies import Input, Output\n",
    "import dash_core_components as dcc\n",
    "import dash_html_components as html\n",
    "import numpy as np\n",
    "import pandas as pd\n",
    "import pandas_datareader.data as web\n",
    "from datetime import datetime as dt\n",
    "\n",
    "# df = web.DataReader('005930', 'naver', start='2015-01-01', end=dt.now())\n",
    "# df.tail()"
   ]
  },
  {
   "cell_type": "code",
   "execution_count": 22,
   "metadata": {
    "tags": []
   },
   "outputs": [
    {
     "output_type": "stream",
     "name": "stdout",
     "text": "[{'label': 'Samsung', 'value': '005930'}, {'label': 'SKInnovation', 'value': '096770'}]\n[{'label': 'AJ네트웍스', 'value': '095570'}, {'label': 'AK홀딩스', 'value': '006840'}]\n"
    }
   ],
   "source": [
    "# df = pd.read_csv('kospi_data.csv')\n",
    "# col = ['기업명', '종목코드']\n",
    "# df1 = df[col].copy()\n",
    "# df1.columns = ['label','value']\n",
    "# df1.head()\n",
    "# stockid = df1.to_dict('records')\n",
    "# stockid\n",
    "\n",
    "df = pd.read_csv('kospi_data.csv')\n",
    "col = ['기업명', '종목코드']\n",
    "df1 = df[col].copy()\n",
    "df1.columns = ['label','value']\n",
    "df1['value'] = df1['value'].apply(str)\n",
    "df1['value'] = df1['value'].str.zfill(6)\n",
    "stock_data = df1.to_dict('records')\n",
    "stock_data\n",
    "\n",
    "list1=[\n",
    "        {'label': 'Samsung', 'value': '005930'},\n",
    "        {'label': 'SKInnovation', 'value': '096770'}\n",
    "        ]\n",
    "print(list1)\n",
    "print(stock_data[:2])"
   ]
  },
  {
   "cell_type": "code",
   "execution_count": 41,
   "metadata": {},
   "outputs": [],
   "source": [
    "# import requests\n",
    "# from bs4 import BeautifulSoup\n",
    "\n",
    "\n",
    "# def get_balance_sheet(stockid):\n",
    "#     URL = \"https://finance.naver.com/item/main.nhn?code=\"+str(stockid)\n",
    "\n",
    "#     samsung_electronic = requests.get(URL)\n",
    "#     html = samsung_electronic.text\n",
    "\n",
    "#     soup = BeautifulSoup(html, 'html.parser')\n",
    "\n",
    "#     finance_html = soup.select('div.section.cop_analysis div.sub_section')[0]\n",
    "\n",
    "#     th_data = [item.get_text().strip() for item in finance_html.select('thead th')]\n",
    "#     annual_date = th_data[3:7]\n",
    "#     quarter_date = th_data[7:13]\n",
    "\n",
    "#     finance_index = [item.get_text().strip() for item in finance_html.select               ('th.h_th2')][3:]\n",
    "\n",
    "#     finance_data = [item.get_text().strip() for item in finance_html.select('td')]\n",
    "\n",
    "#     import numpy as np\n",
    "\n",
    "#     finance_data = np.array(finance_data)\n",
    "#     finance_data.resize(len(finance_index), 10)\n",
    "\n",
    "#     finance_date = annual_date + quarter_date\n",
    "\n",
    "#     import pandas as pd\n",
    "#     finance = pd.DataFrame(data=finance_data[0:,0:], index=finance_index,                  columns=finance_date)\n",
    "\n",
    "#     annual_finance = finance.iloc[:, :4]\n",
    "#     quarter_finance = finance.iloc[:, 4:]"
   ]
  },
  {
   "cell_type": "code",
   "execution_count": 23,
   "metadata": {
    "tags": []
   },
   "outputs": [
    {
     "output_type": "execute_result",
     "data": {
      "text/plain": "                       Indicators    2019.03    2019.06    2019.09    2019.12  \\\n0               Sales(100mil Won)  523855.00  561271.00  620035.00  598848.00   \n1   Operating Revenue(100mil Won)   62333.00   65971.00   77779.00   71603.00   \n2          Net Income(100mil Won)   50436.00   51806.00   62877.00   52270.00   \n3            Operating Revenue(%)      11.90      11.75      12.54      11.96   \n4                   Net Income(%)       9.63       9.23      10.14       8.73   \n5                             ROE      16.21      13.23      10.05       8.69   \n6                  Liabilities(%)      36.27      33.05      34.14      34.12   \n7                 Quick Assets(%)     209.25     230.74     235.80     233.57   \n8                Reserve Ratio(%)   27832.98   28129.35   28541.64   28856.02   \n9                        EPS(Won)     752.00     746.00     899.00     770.00   \n10                            PER       8.54      10.48      13.73      17.63   \n11                       BPS(Won)   36142.00   36789.00   37600.00   37528.00   \n12                            PBR       1.24       1.28       1.30       1.49   \n\n      2020.03  2020.06(E)  \n0   553252.00   511401.00  \n1    64473.00    64703.00  \n2    48849.00    52746.00  \n3       11.65       12.65  \n4        8.83       10.31  \n5        8.45         NaN  \n6       34.19         NaN  \n7      237.80         NaN  \n8    29134.12         NaN  \n9      720.00      735.00  \n10      15.24       72.90  \n11   38053.00         NaN  \n12       1.25         NaN  ",
      "text/html": "<div>\n<style scoped>\n    .dataframe tbody tr th:only-of-type {\n        vertical-align: middle;\n    }\n\n    .dataframe tbody tr th {\n        vertical-align: top;\n    }\n\n    .dataframe thead th {\n        text-align: right;\n    }\n</style>\n<table border=\"1\" class=\"dataframe\">\n  <thead>\n    <tr style=\"text-align: right;\">\n      <th></th>\n      <th>Indicators</th>\n      <th>2019.03</th>\n      <th>2019.06</th>\n      <th>2019.09</th>\n      <th>2019.12</th>\n      <th>2020.03</th>\n      <th>2020.06(E)</th>\n    </tr>\n  </thead>\n  <tbody>\n    <tr>\n      <th>0</th>\n      <td>Sales(100mil Won)</td>\n      <td>523855.00</td>\n      <td>561271.00</td>\n      <td>620035.00</td>\n      <td>598848.00</td>\n      <td>553252.00</td>\n      <td>511401.00</td>\n    </tr>\n    <tr>\n      <th>1</th>\n      <td>Operating Revenue(100mil Won)</td>\n      <td>62333.00</td>\n      <td>65971.00</td>\n      <td>77779.00</td>\n      <td>71603.00</td>\n      <td>64473.00</td>\n      <td>64703.00</td>\n    </tr>\n    <tr>\n      <th>2</th>\n      <td>Net Income(100mil Won)</td>\n      <td>50436.00</td>\n      <td>51806.00</td>\n      <td>62877.00</td>\n      <td>52270.00</td>\n      <td>48849.00</td>\n      <td>52746.00</td>\n    </tr>\n    <tr>\n      <th>3</th>\n      <td>Operating Revenue(%)</td>\n      <td>11.90</td>\n      <td>11.75</td>\n      <td>12.54</td>\n      <td>11.96</td>\n      <td>11.65</td>\n      <td>12.65</td>\n    </tr>\n    <tr>\n      <th>4</th>\n      <td>Net Income(%)</td>\n      <td>9.63</td>\n      <td>9.23</td>\n      <td>10.14</td>\n      <td>8.73</td>\n      <td>8.83</td>\n      <td>10.31</td>\n    </tr>\n    <tr>\n      <th>5</th>\n      <td>ROE</td>\n      <td>16.21</td>\n      <td>13.23</td>\n      <td>10.05</td>\n      <td>8.69</td>\n      <td>8.45</td>\n      <td>NaN</td>\n    </tr>\n    <tr>\n      <th>6</th>\n      <td>Liabilities(%)</td>\n      <td>36.27</td>\n      <td>33.05</td>\n      <td>34.14</td>\n      <td>34.12</td>\n      <td>34.19</td>\n      <td>NaN</td>\n    </tr>\n    <tr>\n      <th>7</th>\n      <td>Quick Assets(%)</td>\n      <td>209.25</td>\n      <td>230.74</td>\n      <td>235.80</td>\n      <td>233.57</td>\n      <td>237.80</td>\n      <td>NaN</td>\n    </tr>\n    <tr>\n      <th>8</th>\n      <td>Reserve Ratio(%)</td>\n      <td>27832.98</td>\n      <td>28129.35</td>\n      <td>28541.64</td>\n      <td>28856.02</td>\n      <td>29134.12</td>\n      <td>NaN</td>\n    </tr>\n    <tr>\n      <th>9</th>\n      <td>EPS(Won)</td>\n      <td>752.00</td>\n      <td>746.00</td>\n      <td>899.00</td>\n      <td>770.00</td>\n      <td>720.00</td>\n      <td>735.00</td>\n    </tr>\n    <tr>\n      <th>10</th>\n      <td>PER</td>\n      <td>8.54</td>\n      <td>10.48</td>\n      <td>13.73</td>\n      <td>17.63</td>\n      <td>15.24</td>\n      <td>72.90</td>\n    </tr>\n    <tr>\n      <th>11</th>\n      <td>BPS(Won)</td>\n      <td>36142.00</td>\n      <td>36789.00</td>\n      <td>37600.00</td>\n      <td>37528.00</td>\n      <td>38053.00</td>\n      <td>NaN</td>\n    </tr>\n    <tr>\n      <th>12</th>\n      <td>PBR</td>\n      <td>1.24</td>\n      <td>1.28</td>\n      <td>1.30</td>\n      <td>1.49</td>\n      <td>1.25</td>\n      <td>NaN</td>\n    </tr>\n  </tbody>\n</table>\n</div>"
     },
     "metadata": {},
     "execution_count": 23
    }
   ],
   "source": [
    "import pandas as pd\n",
    "import requests\n",
    "\n",
    "# Instead of using beautifulsoup, the process can be done in a much simpler way as below using pd.read_html()\n",
    "\n",
    "def get_balance_sheet(stockid):\n",
    "    URL = \"https://finance.naver.com/item/main.nhn?code=\"+str(stockid)\n",
    "\n",
    "    samsung_electronic = requests.get(URL)\n",
    "    html = samsung_electronic.text\n",
    "\n",
    "    financial_stmt = pd.read_html(samsung_electronic.text)[3]\n",
    "\n",
    "    # financial_stmt.set_index(('주요재무정보', '주요재무정보', '주요재무정보'), inplace=True)\n",
    "    # financial_stmt.set_index(('주요재무정보'), inplace=True)\n",
    "\n",
    "    financial_stmt.index.rename('주요재무정보', inplace=True)\n",
    "    financial_stmt.columns = financial_stmt.columns.droplevel(2)\n",
    "    financial_stmt.columns = financial_stmt.columns.droplevel(0)\n",
    "\n",
    "    df = pd.DataFrame(financial_stmt)\n",
    "    # balance_sheet.reset_index(level=0,inplace=True)\n",
    "    # cols = list(df.columns.values)\n",
    "    cols = ['주요재무정보','2017.12','2018.12','2019.03','2019.06','2019.09','2019.12','2020.03','2020.06(E)','2020.12(E)']\n",
    "    df = df[cols]\n",
    "    df.drop(['2017.12','2018.12','2020.12(E)'],axis = 1,inplace=True)\n",
    "    df.rename(columns={'주요재무정보':'Indicators'},inplace=True)\n",
    "    df = df.set_index('Indicators')\n",
    "    df.columns = ['2019.03','2019.06','2019.09','2019.12(A)','2019.12','2020.03','2020.06(E)']\n",
    "    df = df[['2019.12(A)','2019.03','2019.06','2019.09','2019.12','2020.03','2020.06(E)']]\n",
    "    df.drop(df.index[[13,14,15]],inplace=True)\n",
    "    df.drop('2019.12(A)',axis = 1,inplace=True)\n",
    "    col = df.columns.values\n",
    "    df[col] = df[col].astype(float)\n",
    "    df = df.round(2)\n",
    "    df.reset_index(inplace=True)\n",
    "    df['Indicators'] = df['Indicators'].replace({'매출액': 'Sales(100mil Won)', '영업이익': 'Operating Revenue(100mil Won)', '당기순이익': 'Net Income(100mil Won)', '영업이익률': 'Operating Revenue(%)','순이익률': 'Net Income(%)', 'ROE(지배주주)': 'ROE', '부채비율': 'Liabilities(%)', '당좌비율': 'Quick Assets(%)', '유보율': 'Reserve Ratio(%)', 'EPS(원)': 'EPS(Won)', 'PER(배)': 'PER', 'BPS(원)': 'BPS(Won)', 'PBR(배)': 'PBR'})\n",
    "    return df\n",
    "\n",
    "df = get_balance_sheet('005930')\n",
    "df"
   ]
  },
  {
   "cell_type": "code",
   "execution_count": 27,
   "metadata": {},
   "outputs": [
    {
     "output_type": "execute_result",
     "data": {
      "text/plain": "               label   value\n0       AJ네트웍스095570  095570\n1        AK홀딩스006840  006840\n2          BGF027410  027410\n3       BGF리테일282330  282330\n4      BNK금융지주138930  138930\n5          BYC001460  001460\n6           CJ001040  001040\n7       CJ CGV079160  079160\n8       CJ대한통운000120  000120\n9        CJ씨푸드011150  011150\n10      CJ제일제당097950  097950\n11       CS홀딩스000590  000590\n12          DB012030  012030\n13      DB금융투자016610  016610\n14      DB손해보험005830  005830\n15       DB하이텍000990  000990\n16     DGB금융지주139130  139130\n17       DRB동일004840  004840\n18         DSR155660  155660\n19       DSR제강069730  069730\n20          E1017940  017940\n21         F&F007700  007700\n22         GKL114090  114090\n23          GS078930  078930\n24        GS건설006360  006360\n25       GS글로벌001250  001250\n26       GS리테일007070  007070\n27         HDC012630  012630\n28   HDC아이콘트롤스039570  039570\n29     HDC현대EP089470  089470\n..               ...     ...\n761       현대해상001450  001450\n762      현대홈쇼핑057050  057050\n763      형지엘리트093240  093240\n764         혜인003010  003010\n765       호전실업111110  111110\n766       호텔신라008770  008770\n767       화성산업002460  002460\n768     화승알앤에이013520  013520\n769   화승엔터프라이즈241590  241590\n770    화승인더스트리006060  006060\n771         화신010690  010690\n772      화인베스틸133820  133820\n773       화천기계010660  010660\n774       화천기공000850  000850\n775       환인제약016580  016580\n776      황금에스티032560  032560\n777         효성004800  004800\n778     효성 ITX094280  094280\n779      효성중공업298040  298040\n780     효성첨단소재298050  298050\n781      효성티앤씨298020  298020\n782       효성화학298000  298000\n783         후성093370  093370\n784      휠라홀딩스081660  081660\n785  휴니드테크놀러지스005870  005870\n786        휴비스079980  079980\n787        휴스틸005010  005010\n788        휴켐스069260  069260\n789       흥국화재000540  000540\n790       흥아해운003280  003280\n\n[791 rows x 2 columns]",
      "text/html": "<div>\n<style scoped>\n    .dataframe tbody tr th:only-of-type {\n        vertical-align: middle;\n    }\n\n    .dataframe tbody tr th {\n        vertical-align: top;\n    }\n\n    .dataframe thead th {\n        text-align: right;\n    }\n</style>\n<table border=\"1\" class=\"dataframe\">\n  <thead>\n    <tr style=\"text-align: right;\">\n      <th></th>\n      <th>label</th>\n      <th>value</th>\n    </tr>\n  </thead>\n  <tbody>\n    <tr>\n      <th>0</th>\n      <td>AJ네트웍스095570</td>\n      <td>095570</td>\n    </tr>\n    <tr>\n      <th>1</th>\n      <td>AK홀딩스006840</td>\n      <td>006840</td>\n    </tr>\n    <tr>\n      <th>2</th>\n      <td>BGF027410</td>\n      <td>027410</td>\n    </tr>\n    <tr>\n      <th>3</th>\n      <td>BGF리테일282330</td>\n      <td>282330</td>\n    </tr>\n    <tr>\n      <th>4</th>\n      <td>BNK금융지주138930</td>\n      <td>138930</td>\n    </tr>\n    <tr>\n      <th>5</th>\n      <td>BYC001460</td>\n      <td>001460</td>\n    </tr>\n    <tr>\n      <th>6</th>\n      <td>CJ001040</td>\n      <td>001040</td>\n    </tr>\n    <tr>\n      <th>7</th>\n      <td>CJ CGV079160</td>\n      <td>079160</td>\n    </tr>\n    <tr>\n      <th>8</th>\n      <td>CJ대한통운000120</td>\n      <td>000120</td>\n    </tr>\n    <tr>\n      <th>9</th>\n      <td>CJ씨푸드011150</td>\n      <td>011150</td>\n    </tr>\n    <tr>\n      <th>10</th>\n      <td>CJ제일제당097950</td>\n      <td>097950</td>\n    </tr>\n    <tr>\n      <th>11</th>\n      <td>CS홀딩스000590</td>\n      <td>000590</td>\n    </tr>\n    <tr>\n      <th>12</th>\n      <td>DB012030</td>\n      <td>012030</td>\n    </tr>\n    <tr>\n      <th>13</th>\n      <td>DB금융투자016610</td>\n      <td>016610</td>\n    </tr>\n    <tr>\n      <th>14</th>\n      <td>DB손해보험005830</td>\n      <td>005830</td>\n    </tr>\n    <tr>\n      <th>15</th>\n      <td>DB하이텍000990</td>\n      <td>000990</td>\n    </tr>\n    <tr>\n      <th>16</th>\n      <td>DGB금융지주139130</td>\n      <td>139130</td>\n    </tr>\n    <tr>\n      <th>17</th>\n      <td>DRB동일004840</td>\n      <td>004840</td>\n    </tr>\n    <tr>\n      <th>18</th>\n      <td>DSR155660</td>\n      <td>155660</td>\n    </tr>\n    <tr>\n      <th>19</th>\n      <td>DSR제강069730</td>\n      <td>069730</td>\n    </tr>\n    <tr>\n      <th>20</th>\n      <td>E1017940</td>\n      <td>017940</td>\n    </tr>\n    <tr>\n      <th>21</th>\n      <td>F&amp;F007700</td>\n      <td>007700</td>\n    </tr>\n    <tr>\n      <th>22</th>\n      <td>GKL114090</td>\n      <td>114090</td>\n    </tr>\n    <tr>\n      <th>23</th>\n      <td>GS078930</td>\n      <td>078930</td>\n    </tr>\n    <tr>\n      <th>24</th>\n      <td>GS건설006360</td>\n      <td>006360</td>\n    </tr>\n    <tr>\n      <th>25</th>\n      <td>GS글로벌001250</td>\n      <td>001250</td>\n    </tr>\n    <tr>\n      <th>26</th>\n      <td>GS리테일007070</td>\n      <td>007070</td>\n    </tr>\n    <tr>\n      <th>27</th>\n      <td>HDC012630</td>\n      <td>012630</td>\n    </tr>\n    <tr>\n      <th>28</th>\n      <td>HDC아이콘트롤스039570</td>\n      <td>039570</td>\n    </tr>\n    <tr>\n      <th>29</th>\n      <td>HDC현대EP089470</td>\n      <td>089470</td>\n    </tr>\n    <tr>\n      <th>...</th>\n      <td>...</td>\n      <td>...</td>\n    </tr>\n    <tr>\n      <th>761</th>\n      <td>현대해상001450</td>\n      <td>001450</td>\n    </tr>\n    <tr>\n      <th>762</th>\n      <td>현대홈쇼핑057050</td>\n      <td>057050</td>\n    </tr>\n    <tr>\n      <th>763</th>\n      <td>형지엘리트093240</td>\n      <td>093240</td>\n    </tr>\n    <tr>\n      <th>764</th>\n      <td>혜인003010</td>\n      <td>003010</td>\n    </tr>\n    <tr>\n      <th>765</th>\n      <td>호전실업111110</td>\n      <td>111110</td>\n    </tr>\n    <tr>\n      <th>766</th>\n      <td>호텔신라008770</td>\n      <td>008770</td>\n    </tr>\n    <tr>\n      <th>767</th>\n      <td>화성산업002460</td>\n      <td>002460</td>\n    </tr>\n    <tr>\n      <th>768</th>\n      <td>화승알앤에이013520</td>\n      <td>013520</td>\n    </tr>\n    <tr>\n      <th>769</th>\n      <td>화승엔터프라이즈241590</td>\n      <td>241590</td>\n    </tr>\n    <tr>\n      <th>770</th>\n      <td>화승인더스트리006060</td>\n      <td>006060</td>\n    </tr>\n    <tr>\n      <th>771</th>\n      <td>화신010690</td>\n      <td>010690</td>\n    </tr>\n    <tr>\n      <th>772</th>\n      <td>화인베스틸133820</td>\n      <td>133820</td>\n    </tr>\n    <tr>\n      <th>773</th>\n      <td>화천기계010660</td>\n      <td>010660</td>\n    </tr>\n    <tr>\n      <th>774</th>\n      <td>화천기공000850</td>\n      <td>000850</td>\n    </tr>\n    <tr>\n      <th>775</th>\n      <td>환인제약016580</td>\n      <td>016580</td>\n    </tr>\n    <tr>\n      <th>776</th>\n      <td>황금에스티032560</td>\n      <td>032560</td>\n    </tr>\n    <tr>\n      <th>777</th>\n      <td>효성004800</td>\n      <td>004800</td>\n    </tr>\n    <tr>\n      <th>778</th>\n      <td>효성 ITX094280</td>\n      <td>094280</td>\n    </tr>\n    <tr>\n      <th>779</th>\n      <td>효성중공업298040</td>\n      <td>298040</td>\n    </tr>\n    <tr>\n      <th>780</th>\n      <td>효성첨단소재298050</td>\n      <td>298050</td>\n    </tr>\n    <tr>\n      <th>781</th>\n      <td>효성티앤씨298020</td>\n      <td>298020</td>\n    </tr>\n    <tr>\n      <th>782</th>\n      <td>효성화학298000</td>\n      <td>298000</td>\n    </tr>\n    <tr>\n      <th>783</th>\n      <td>후성093370</td>\n      <td>093370</td>\n    </tr>\n    <tr>\n      <th>784</th>\n      <td>휠라홀딩스081660</td>\n      <td>081660</td>\n    </tr>\n    <tr>\n      <th>785</th>\n      <td>휴니드테크놀러지스005870</td>\n      <td>005870</td>\n    </tr>\n    <tr>\n      <th>786</th>\n      <td>휴비스079980</td>\n      <td>079980</td>\n    </tr>\n    <tr>\n      <th>787</th>\n      <td>휴스틸005010</td>\n      <td>005010</td>\n    </tr>\n    <tr>\n      <th>788</th>\n      <td>휴켐스069260</td>\n      <td>069260</td>\n    </tr>\n    <tr>\n      <th>789</th>\n      <td>흥국화재000540</td>\n      <td>000540</td>\n    </tr>\n    <tr>\n      <th>790</th>\n      <td>흥아해운003280</td>\n      <td>003280</td>\n    </tr>\n  </tbody>\n</table>\n<p>791 rows × 2 columns</p>\n</div>"
     },
     "metadata": {},
     "execution_count": 27
    }
   ],
   "source": [
    "df = pd.read_csv('kospi_data.csv')\n",
    "col = ['기업명', '종목코드']\n",
    "df1 = df[col].copy()\n",
    "df1.columns = ['label','value']\n",
    "df1['value'] = df1['value'].apply(str)\n",
    "df1['value'] = df1['value'].str.zfill(6)\n",
    "df1['label'] = df1['label']+' ('+df1['value']+')'\n",
    "stock_data = df1.to_dict('records')\n",
    "# stock_data\n",
    "df1"
   ]
  },
  {
   "cell_type": "code",
   "execution_count": null,
   "metadata": {},
   "outputs": [],
   "source": []
  }
 ],
 "metadata": {
  "language_info": {
   "codemirror_mode": {
    "name": "ipython",
    "version": 3
   },
   "file_extension": ".py",
   "mimetype": "text/x-python",
   "name": "python",
   "nbconvert_exporter": "python",
   "pygments_lexer": "ipython3",
   "version": 3
  },
  "orig_nbformat": 2,
  "kernelspec": {
   "name": "python_defaultSpec_1594816721061",
   "display_name": "Python 3.7.3 64-bit ('base': conda)"
  }
 },
 "nbformat": 4,
 "nbformat_minor": 2
}